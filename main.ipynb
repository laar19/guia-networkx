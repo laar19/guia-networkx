{
  "nbformat": 4,
  "nbformat_minor": 0,
  "metadata": {
    "colab": {
      "name": "main.ipynb",
      "provenance": [],
      "collapsed_sections": []
    },
    "language_info": {
      "codemirror_mode": {
        "name": "ipython",
        "version": 3
      },
      "file_extension": ".py",
      "mimetype": "text/x-python",
      "name": "python",
      "nbconvert_exporter": "python",
      "pygments_lexer": "ipython3",
      "version": "3.7.1"
    },
    "kernelspec": {
      "display_name": "Python 3",
      "language": "python",
      "name": "python3"
    }
  },
  "cells": [
    {
      "cell_type": "code",
      "metadata": {
        "id": "vdGKBFDQN0q3",
        "colab_type": "code",
        "colab": {}
      },
      "source": [
        "import networkx as nx\n",
        "import matplotlib.pyplot as plt"
      ],
      "execution_count": 0,
      "outputs": []
    },
    {
      "cell_type": "markdown",
      "metadata": {
        "id": "2QBAvm0Ph41a",
        "colab_type": "text"
      },
      "source": [
        "### Crea un nuevo grafo"
      ]
    },
    {
      "cell_type": "code",
      "metadata": {
        "id": "xOu25epsN0rI",
        "colab_type": "code",
        "colab": {}
      },
      "source": [
        "G = nx.Graph()"
      ],
      "execution_count": 0,
      "outputs": []
    },
    {
      "cell_type": "markdown",
      "metadata": {
        "id": "Ka8b6df5iGWk",
        "colab_type": "text"
      },
      "source": [
        "### Añade un nodo al grafo"
      ]
    },
    {
      "cell_type": "code",
      "metadata": {
        "id": "K2lqLVW5N0rW",
        "colab_type": "code",
        "outputId": "b8c998ec-1a27-4429-99a4-0fbbe87925fe",
        "colab": {
          "base_uri": "https://localhost:8080/",
          "height": 34
        }
      },
      "source": [
        "# Añade un nodo al grafo\n",
        "G.add_node(\"a\")\n",
        "\n",
        "# Añade varios nodos al grafo\n",
        "G.add_nodes_from([\"b\", \"c\"])\n",
        "\n",
        "print(\"Nodos del grafo: \", G.nodes())"
      ],
      "execution_count": 216,
      "outputs": [
        {
          "output_type": "stream",
          "text": [
            "Nodos del grafo:  ['a', 'b', 'c']\n"
          ],
          "name": "stdout"
        }
      ]
    },
    {
      "cell_type": "markdown",
      "metadata": {
        "id": "0vlb5oz3jOSC",
        "colab_type": "text"
      },
      "source": [
        "### Añade una conexión al grafo"
      ]
    },
    {
      "cell_type": "code",
      "metadata": {
        "id": "AB39fWbejMlg",
        "colab_type": "code",
        "outputId": "a972238b-eb91-4469-e7bf-3b77083c4a70",
        "colab": {
          "base_uri": "https://localhost:8080/",
          "height": 354
        }
      },
      "source": [
        "# Añade una conexión al grafo entre dos nodos existentes\n",
        "edge = (\"b\", \"c\")\n",
        "G.add_edge(*edge)\n",
        "\n",
        "# Añade una conexión al grafo, si los nodos a conectar no existe, se crean\n",
        "G.add_edge(\"d\", \"e\")\n",
        "G.add_edge(1, 2)\n",
        "\n",
        "# Añade una lista de conexiones al grafo, si los nodos no existen, se crean\n",
        "G.add_edges_from([(\"a\", \"c\"), (\"c\", \"d\"), (\"a\", 1), (1, \"d\"), (\"a\", 2)])\n",
        "\n",
        "print(\"Nodos del grafo: \", G.nodes())\n",
        "print(\"Conexiones del grafo: \", G.edges())\n",
        "\n",
        "# Imprime el grafo\n",
        "nx.draw(G, with_labels=True)"
      ],
      "execution_count": 217,
      "outputs": [
        {
          "output_type": "stream",
          "text": [
            "Nodos del grafo:  ['a', 'b', 'c', 'd', 'e', 1, 2]\n",
            "Conexiones del grafo:  [('a', 'c'), ('a', 1), ('a', 2), ('b', 'c'), ('c', 'd'), ('d', 'e'), ('d', 1), (1, 2)]\n"
          ],
          "name": "stdout"
        },
        {
          "output_type": "display_data",
          "data": {
            "image/png": "[encoded data removed]",
            "text/plain": [
              "<Figure size 432x288 with 1 Axes>"
            ]
          },
          "metadata": {
            "tags": []
          }
        }
      ]
    },
    {
      "cell_type": "markdown",
      "metadata": {
        "id": "CJeS06NHlwSq",
        "colab_type": "text"
      },
      "source": [
        "### Crea un grafo con un número de nodos predefinidos"
      ]
    },
    {
      "cell_type": "code",
      "metadata": {
        "id": "On9SRoQ0N0r8",
        "colab_type": "code",
        "outputId": "31717343-fb57-45f2-aad3-1fc41a60ab8c",
        "colab": {
          "base_uri": "https://localhost:8080/",
          "height": 354
        }
      },
      "source": [
        "# El argumento es la cantidad de nodos del grafo, conectados consecutivamente\n",
        "G = nx.path_graph(4)\n",
        "\n",
        "print(\"Nodos del grafo: \", G.nodes())\n",
        "print(\"Conexiones del grafo: \", G.edges())\n",
        "\n",
        "nx.draw(G, with_labels=True)"
      ],
      "execution_count": 218,
      "outputs": [
        {
          "output_type": "stream",
          "text": [
            "Nodos del grafo:  [0, 1, 2, 3]\n",
            "Conexiones del grafo:  [(0, 1), (1, 2), (2, 3)]\n"
          ],
          "name": "stdout"
        },
        {
          "output_type": "display_data",
          "data": {
            "image/png": "[encoded data removed]",
            "text/plain": [
              "<Figure size 432x288 with 1 Axes>"
            ]
          },
          "metadata": {
            "tags": []
          }
        }
      ]
    },
    {
      "cell_type": "markdown",
      "metadata": {
        "id": "pG2Y7WcAmVcX",
        "colab_type": "text"
      },
      "source": [
        "### Otro ejemplo, ampliando el anterior"
      ]
    },
    {
      "cell_type": "code",
      "metadata": {
        "id": "sBG-EvM4N0sE",
        "colab_type": "code",
        "outputId": "5ca7572f-05f8-4bc9-8ab3-900c7a7ccffd",
        "colab": {
          "base_uri": "https://localhost:8080/",
          "height": 354
        }
      },
      "source": [
        "# Crea un nuevo grafo\n",
        "G = nx.path_graph(4)\n",
        "ciudades = {0:\"Caracas\", 1:\"Bogotá\", 2:\"Quito\", 3:\"La Paz\"}\n",
        "\n",
        "# Cambia el nombre de las etiquetas\n",
        "H = nx.relabel_nodes(G, ciudades)\n",
        "\n",
        "print(\"Nodos del grafo: \", H.nodes())\n",
        "print(\"Conexiones del grafo: \", H.edges())\n",
        " \n",
        "nx.draw(H, with_labels=True)"
      ],
      "execution_count": 219,
      "outputs": [
        {
          "output_type": "stream",
          "text": [
            "Nodos del grafo:  ['Caracas', 'Bogotá', 'Quito', 'La Paz']\n",
            "Conexiones del grafo:  [('Caracas', 'Bogotá'), ('Bogotá', 'Quito'), ('Quito', 'La Paz')]\n"
          ],
          "name": "stdout"
        },
        {
          "output_type": "display_data",
          "data": {
            "image/png": "[encoded data removed]",
            "text/plain": [
              "<Figure size 432x288 with 1 Axes>"
            ]
          },
          "metadata": {
            "tags": []
          }
        }
      ]
    },
    {
      "cell_type": "markdown",
      "metadata": {
        "id": "FHtlFDieny3E",
        "colab_type": "text"
      },
      "source": [
        "### Crea un grafo, y cambia los nombres de las etiquetas a los 5 primeros nodos"
      ]
    },
    {
      "cell_type": "code",
      "metadata": {
        "id": "Qp07EGpzN0sP",
        "colab_type": "code",
        "outputId": "85b496fd-eef1-4aa7-d62f-801b64074478",
        "colab": {
          "base_uri": "https://localhost:8080/",
          "height": 34
        }
      },
      "source": [
        "G = nx.path_graph(10)\n",
        "mapeo = dict(zip(G.nodes(), \"abcde\"))\n",
        "nx.relabel_nodes(G, mapeo, copy=False)\n",
        " \n",
        "print(\"Nodos del grafo: \", G.nodes())"
      ],
      "execution_count": 220,
      "outputs": [
        {
          "output_type": "stream",
          "text": [
            "Nodos del grafo:  [5, 6, 7, 8, 9, 'a', 'b', 'c', 'd', 'e']\n"
          ],
          "name": "stdout"
        }
      ]
    },
    {
      "cell_type": "markdown",
      "metadata": {
        "id": "zcJmFToMoUEK",
        "colab_type": "text"
      },
      "source": [
        "### Otro ejemplo, ampliando el anterior"
      ]
    },
    {
      "cell_type": "code",
      "metadata": {
        "id": "9cSmO8KEN0sX",
        "colab_type": "code",
        "outputId": "b8ca37eb-4bb4-46b0-a2ed-f27cf0f8f16c",
        "colab": {
          "base_uri": "https://localhost:8080/",
          "height": 34
        }
      },
      "source": [
        "# Crea un nuevo grafo\n",
        "G = nx.path_graph(10)\n",
        "\n",
        "def mapeo(x):\n",
        "    return x + 100\n",
        "\n",
        "nx.relabel_nodes(G, mapeo, copy=False)\n",
        " \n",
        "print(\"Nodos del grafo: \", G.nodes())"
      ],
      "execution_count": 221,
      "outputs": [
        {
          "output_type": "stream",
          "text": [
            "Nodos del grafo:  [100, 101, 102, 103, 104, 105, 106, 107, 108, 109]\n"
          ],
          "name": "stdout"
        }
      ]
    },
    {
      "cell_type": "markdown",
      "metadata": {
        "id": "q6PFIRx8gsiN",
        "colab_type": "text"
      },
      "source": [
        "### Añade atributos al grafo"
      ]
    },
    {
      "cell_type": "code",
      "metadata": {
        "id": "YWGe2Wa6fVDL",
        "colab_type": "code",
        "colab": {
          "base_uri": "https://localhost:8080/",
          "height": 191
        },
        "outputId": "20bdaa37-9c02-4d91-f1ff-ea3e45dcc292"
      },
      "source": [
        "# Crea un nuevo grafo\n",
        "G = nx.path_graph(4)\n",
        "\n",
        "# Añade atributos al grafo\n",
        "G.graph[\"atributo1\"] = \"valor1\"\n",
        "G.graph[\"atributo2\"] = \"valor2\"\n",
        "print(G.graph)\n",
        "\n",
        "# Añade atributos a los nodos, si el nodo lo existe lo crea\n",
        "G.add_node(1, hora=\"8am\")\n",
        "G.add_nodes_from([3], hora=\"4pm\")\n",
        "G.node[1][\"salón\"] = 15\n",
        "print(G.node[1])\n",
        "G.add_node(4, hora=\"9am\") # El nodo no existe, se crea\n",
        "print(G.node[4])\n",
        "\n",
        "# Añade atributos a las conexiones\n",
        "G.add_edge(1, 2, weight=4.7)\n",
        "G.add_edges_from([(3, 4),(4, 5)], color=\"rojo\")\n",
        "G.add_edges_from([(1, 2, {\"color\": \"azul\"}), (2, 3, {\"weight\": 8})])\n",
        "G.add_edge(1, 3)\n",
        "G[1][3][\"weight\"] = 5.7\n",
        "print(G.edges[3, 4])\n",
        "print(G.edges[4, 5])\n",
        "print(G.edges[1, 2])\n",
        "print(G.edges[2, 3])\n",
        "print(G.edges[1, 3])\n",
        "\n",
        "print(\"Nodos del grafo: \", G.nodes())\n",
        "print(\"Conexiones del grafo: \", G.edges())"
      ],
      "execution_count": 222,
      "outputs": [
        {
          "output_type": "stream",
          "text": [
            "{'atributo1': 'valor1', 'atributo2': 'valor2'}\n",
            "{'hora': '8am', 'salón': 15}\n",
            "{'hora': '9am'}\n",
            "{'color': 'rojo'}\n",
            "{'color': 'rojo'}\n",
            "{'weight': 4.7, 'color': 'azul'}\n",
            "{'weight': 8}\n",
            "{'weight': 5.7}\n",
            "Nodos del grafo:  [0, 1, 2, 3, 4, 5]\n",
            "Conexiones del grafo:  [(0, 1), (1, 2), (1, 3), (2, 3), (3, 4), (4, 5)]\n"
          ],
          "name": "stdout"
        }
      ]
    },
    {
      "cell_type": "markdown",
      "metadata": {
        "id": "gGmq-KBzn77i",
        "colab_type": "text"
      },
      "source": [
        "### Grafos dirijidos"
      ]
    },
    {
      "cell_type": "code",
      "metadata": {
        "id": "q2eeeBfgfY6u",
        "colab_type": "code",
        "colab": {
          "base_uri": "https://localhost:8080/",
          "height": 354
        },
        "outputId": "cddee4b3-be27-4be2-cc4c-4346e2f2be67"
      },
      "source": [
        "# Crea un nuevo grafo\n",
        "DG = nx.DiGraph()\n",
        "\n",
        "# Añade conexiones con pesos, los números reales representan los pesos\n",
        "DG.add_weighted_edges_from([(1, 2, 0.5), (2, 3, 0.75)])\n",
        "\n",
        "print(\"Nodos del grafo: \", DG.nodes())\n",
        "print(\"Conexiones del grafo: \", DG.edges())\n",
        "\n",
        "nx.draw(DG, with_labels=True)"
      ],
      "execution_count": 223,
      "outputs": [
        {
          "output_type": "stream",
          "text": [
            "Nodos del grafo:  [1, 2, 3]\n",
            "Conexiones del grafo:  [(1, 2), (2, 3)]\n"
          ],
          "name": "stdout"
        },
        {
          "output_type": "display_data",
          "data": {
            "image/png": "[encoded data removed]",
            "text/plain": [
              "<Figure size 432x288 with 1 Axes>"
            ]
          },
          "metadata": {
            "tags": []
          }
        }
      ]
    },
    {
      "cell_type": "markdown",
      "metadata": {
        "id": "cnXSg7Mws5ol",
        "colab_type": "text"
      },
      "source": [
        "### Ampliando el ejemplo anterior"
      ]
    },
    {
      "cell_type": "code",
      "metadata": {
        "id": "twzRu9wss8Ex",
        "colab_type": "code",
        "colab": {
          "base_uri": "https://localhost:8080/",
          "height": 248
        },
        "outputId": "9de7af94-fa0c-4661-df5a-47f52809586a"
      },
      "source": [
        "# Crea un nuevo grafo\n",
        "DG = nx.DiGraph()\n",
        "\n",
        "# Añade un mismo peso a las conexiones de los nodos\n",
        "DG.add_edges_from([(\"A\", \"B\"),(\"C\",\"D\"),(\"G\",\"D\")], weight=1)\n",
        "DG.add_edges_from([(\"D\",\"A\"),(\"D\",\"E\"),(\"B\",\"D\"),(\"D\",\"E\")], weight=2)\n",
        "\n",
        "pos = nx.spring_layout(DG) # Position nodes using Fruchterman-Reingold force-directed algorithm. Tomado de la documentación oficial\n",
        "nx.draw_networkx_edge_labels(DG, pos)\n",
        "nx.draw(DG, pos, node_color=\"red\", with_labels=True)"
      ],
      "execution_count": 224,
      "outputs": [
        {
          "output_type": "display_data",
          "data": {
            "image/png": "[encoded data removed]",
            "text/plain": [
              "<Figure size 432x288 with 1 Axes>"
            ]
          },
          "metadata": {
            "tags": []
          }
        }
      ]
    },
    {
      "cell_type": "code",
      "metadata": {
        "id": "llCUEkHExW2M",
        "colab_type": "code",
        "colab": {}
      },
      "source": [
        ""
      ],
      "execution_count": 0,
      "outputs": []
    }
  ]
}