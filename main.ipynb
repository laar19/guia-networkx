{
  "nbformat": 4,
  "nbformat_minor": 0,
  "metadata": {
    "colab": {
      "name": "main.ipynb",
      "provenance": [],
      "collapsed_sections": []
    },
    "language_info": {
      "codemirror_mode": {
        "name": "ipython",
        "version": 3
      },
      "file_extension": ".py",
      "mimetype": "text/x-python",
      "name": "python",
      "nbconvert_exporter": "python",
      "pygments_lexer": "ipython3",
      "version": "3.7.1"
    },
    "kernelspec": {
      "display_name": "Python 3",
      "language": "python",
      "name": "python3"
    }
  },
  "cells": [
    {
      "cell_type": "code",
      "metadata": {
        "id": "vdGKBFDQN0q3",
        "colab_type": "code",
        "colab": {}
      },
      "source": [
        "import networkx as nx\n",
        "import matplotlib.pyplot as plt"
      ],
      "execution_count": 0,
      "outputs": []
    },
    {
      "cell_type": "markdown",
      "metadata": {
        "id": "2QBAvm0Ph41a",
        "colab_type": "text"
      },
      "source": [
        "### Crea un nuevo grafo"
      ]
    },
    {
      "cell_type": "code",
      "metadata": {
        "id": "xOu25epsN0rI",
        "colab_type": "code",
        "colab": {}
      },
      "source": [
        "G = nx.Graph()"
      ],
      "execution_count": 0,
      "outputs": []
    },
    {
      "cell_type": "markdown",
      "metadata": {
        "id": "Ka8b6df5iGWk",
        "colab_type": "text"
      },
      "source": [
        "### Añade un nodo al grafo"
      ]
    },
    {
      "cell_type": "code",
      "metadata": {
        "id": "K2lqLVW5N0rW",
        "colab_type": "code",
        "outputId": "76acd5b8-5fc7-4efd-b4e2-3a7bf86dfd84",
        "colab": {
          "base_uri": "https://localhost:8080/",
          "height": 34
        }
      },
      "source": [
        "# Añade un nodo al grafo\n",
        "G.add_node(\"a\")\n",
        "\n",
        "# Añade varios nodos al grafo\n",
        "G.add_nodes_from([\"b\", \"c\"])\n",
        "\n",
        "print(\"Nodos del grafo: \", G.nodes())"
      ],
      "execution_count": 44,
      "outputs": [
        {
          "output_type": "stream",
          "text": [
            "Nodos del grafo:  ['a', 'b', 'c']\n"
          ],
          "name": "stdout"
        }
      ]
    },
    {
      "cell_type": "markdown",
      "metadata": {
        "id": "0vlb5oz3jOSC",
        "colab_type": "text"
      },
      "source": [
        "### Añade una conexión al grafo"
      ]
    },
    {
      "cell_type": "code",
      "metadata": {
        "id": "AB39fWbejMlg",
        "colab_type": "code",
        "colab": {
          "base_uri": "https://localhost:8080/",
          "height": 52
        },
        "outputId": "9225b6c0-04d3-45bc-8802-e4fb737579ff"
      },
      "source": [
        "# Añade una conexión al grafo entre dos nodos existentes\n",
        "edge = (\"b\", \"c\")\n",
        "G.add_edge(*edge)\n",
        "\n",
        "# Añade una conexión al grafo, si los nodos a conectar no existe, se crean\n",
        "G.add_edge(\"d\", \"e\")\n",
        "G.add_edge(1, 2)\n",
        "\n",
        "# Añade una lista de conexiones al grafo, si los nodos no existen, se crean\n",
        "G.add_edges_from([(\"a\", \"c\"), (\"c\", \"d\"), (\"a\", 1), (1, \"d\"), (\"a\", 2)])\n",
        "\n",
        "print(\"Nodos del grafo: \", G.nodes())\n",
        "print(\"Conexiones del grafo: \", G.edges())"
      ],
      "execution_count": 45,
      "outputs": [
        {
          "output_type": "stream",
          "text": [
            "Nodos del grafo:  ['a', 'b', 'c', 'd', 'e', 1, 2]\n",
            "Conexiones del grafo:  [('a', 'c'), ('a', 1), ('a', 2), ('b', 'c'), ('c', 'd'), ('d', 'e'), ('d', 1), (1, 2)]\n"
          ],
          "name": "stdout"
        }
      ]
    },
    {
      "cell_type": "markdown",
      "metadata": {
        "id": "Id5ZbatklFWW",
        "colab_type": "text"
      },
      "source": [
        "### Imprime el grafo"
      ]
    },
    {
      "cell_type": "code",
      "metadata": {
        "id": "7Wvfoqb8N0rx",
        "colab_type": "code",
        "outputId": "f6d9aa79-658e-4553-d9cd-05fbb798f0d9",
        "colab": {
          "base_uri": "https://localhost:8080/",
          "height": 319
        }
      },
      "source": [
        "nx.draw(G, with_labels=True)\n",
        "plt.savefig(\"grafo1.png\")\n",
        "plt.show()"
      ],
      "execution_count": 46,
      "outputs": [
        {
          "output_type": "display_data",
          "data": {
            "image/png": "[encoded data removed]",
            "text/plain": [
              "<Figure size 432x288 with 1 Axes>"
            ]
          },
          "metadata": {
            "tags": []
          }
        }
      ]
    },
    {
      "cell_type": "markdown",
      "metadata": {
        "id": "CJeS06NHlwSq",
        "colab_type": "text"
      },
      "source": [
        "### Crea un grafo con un número de nodos predefinidos"
      ]
    },
    {
      "cell_type": "code",
      "metadata": {
        "id": "On9SRoQ0N0r8",
        "colab_type": "code",
        "outputId": "d89215c7-748e-40fc-c42d-f3f009579f28",
        "colab": {
          "base_uri": "https://localhost:8080/",
          "height": 354
        }
      },
      "source": [
        "# El argumento es la cantidad de nodos del grafo, conectados consecutivamente\n",
        "G = nx.path_graph(4)\n",
        "\n",
        "print(\"Nodos del grafo: \", G.nodes())\n",
        "print(\"Conexiones del grafo: \", G.edges())\n",
        "\n",
        "nx.draw(G, with_labels=True)\n",
        "plt.savefig(\"grafo2.png\")\n",
        "plt.show()"
      ],
      "execution_count": 47,
      "outputs": [
        {
          "output_type": "stream",
          "text": [
            "Nodos del grafo:  [0, 1, 2, 3]\n",
            "Conexiones del grafo:  [(0, 1), (1, 2), (2, 3)]\n"
          ],
          "name": "stdout"
        },
        {
          "output_type": "display_data",
          "data": {
            "image/png": "[encoded data removed]",
            "text/plain": [
              "<Figure size 432x288 with 1 Axes>"
            ]
          },
          "metadata": {
            "tags": []
          }
        }
      ]
    },
    {
      "cell_type": "markdown",
      "metadata": {
        "id": "pG2Y7WcAmVcX",
        "colab_type": "text"
      },
      "source": [
        "### Otro ejemplo, ampliando el anterior"
      ]
    },
    {
      "cell_type": "code",
      "metadata": {
        "id": "sBG-EvM4N0sE",
        "colab_type": "code",
        "outputId": "282500c9-5fe6-4be6-f5ab-18bc3c29ca5c",
        "colab": {
          "base_uri": "https://localhost:8080/",
          "height": 354
        }
      },
      "source": [
        "G = nx.path_graph(4)\n",
        "ciudades = {0:\"Caracas\", 1:\"Bogotá\", 2:\"Quito\", 3:\"La Paz\"}\n",
        "\n",
        "# Cambia el nombre de las etiquetas\n",
        "H = nx.relabel_nodes(G, ciudades)\n",
        "\n",
        "print(\"Nodos del grafo: \", H.nodes())\n",
        "print(\"Conexiones del grafo: \", H.edges())\n",
        " \n",
        "nx.draw(H, with_labels=True)\n",
        "plt.savefig(\"grafo3.png\")\n",
        "plt.show()"
      ],
      "execution_count": 48,
      "outputs": [
        {
          "output_type": "stream",
          "text": [
            "Nodos del grafo:  ['Caracas', 'Bogotá', 'Quito', 'La Paz']\n",
            "Conexiones del grafo:  [('Caracas', 'Bogotá'), ('Bogotá', 'Quito'), ('Quito', 'La Paz')]\n"
          ],
          "name": "stdout"
        },
        {
          "output_type": "display_data",
          "data": {
            "image/png": "[encoded data removed]",
            "text/plain": [
              "<Figure size 432x288 with 1 Axes>"
            ]
          },
          "metadata": {
            "tags": []
          }
        }
      ]
    },
    {
      "cell_type": "markdown",
      "metadata": {
        "id": "FHtlFDieny3E",
        "colab_type": "text"
      },
      "source": [
        "### Crea un grafo, y cambia los nombres de las etiquetas a los 5 primeros nodos"
      ]
    },
    {
      "cell_type": "code",
      "metadata": {
        "id": "Qp07EGpzN0sP",
        "colab_type": "code",
        "outputId": "0b58d6db-0a82-42cf-fac0-460e3dc08eed",
        "colab": {
          "base_uri": "https://localhost:8080/",
          "height": 34
        }
      },
      "source": [
        "G = nx.path_graph(10)\n",
        "mapeo = dict(zip(G.nodes(), \"abcde\"))\n",
        "nx.relabel_nodes(G, mapeo, copy=False)\n",
        " \n",
        "print(\"Nodos del grafo: \", G.nodes())"
      ],
      "execution_count": 49,
      "outputs": [
        {
          "output_type": "stream",
          "text": [
            "Nodos del grafo:  [5, 6, 7, 8, 9, 'a', 'b', 'c', 'd', 'e']\n"
          ],
          "name": "stdout"
        }
      ]
    },
    {
      "cell_type": "markdown",
      "metadata": {
        "id": "zcJmFToMoUEK",
        "colab_type": "text"
      },
      "source": [
        "### Otro ejemplo, ampliando el anterior"
      ]
    },
    {
      "cell_type": "code",
      "metadata": {
        "id": "9cSmO8KEN0sX",
        "colab_type": "code",
        "outputId": "d05c0dec-87a7-4ba6-e987-0283eea01bac",
        "colab": {
          "base_uri": "https://localhost:8080/",
          "height": 34
        }
      },
      "source": [
        "G = nx.path_graph(10)\n",
        "\n",
        "def mapeo(x):\n",
        "    return x + 100\n",
        "\n",
        "nx.relabel_nodes(G, mapeo, copy=False)\n",
        " \n",
        "print(\"Nodos del grafo: \", G.nodes())"
      ],
      "execution_count": 50,
      "outputs": [
        {
          "output_type": "stream",
          "text": [
            "Nodos del grafo:  [100, 101, 102, 103, 104, 105, 106, 107, 108, 109]\n"
          ],
          "name": "stdout"
        }
      ]
    }
  ]
}